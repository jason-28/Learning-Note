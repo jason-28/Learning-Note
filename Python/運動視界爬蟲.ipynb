{
 "cells": [
  {
   "cell_type": "markdown",
   "metadata": {},
   "source": [
    "# 運動視界NBA版2022季後賽專題之標題、作者、日期爬取"
   ]
  },
  {
   "cell_type": "code",
   "execution_count": 3,
   "metadata": {},
   "outputs": [],
   "source": [
    "from selenium import webdriver\n",
    "import time\n",
    "from bs4 import BeautifulSoup\n",
    "import csv"
   ]
  },
  {
   "cell_type": "code",
   "execution_count": 4,
   "metadata": {},
   "outputs": [
    {
     "name": "stdout",
     "output_type": "stream",
     "text": [
      "['標題', '作者', '日期']\n",
      "['\\n                                    《2022 Finals》小球並非勇士專利！塞爾蒂克「假先發、真變陣」出奇制勝\\n                                ', 'EdotTdot_4', '2022/06/10']\n",
      "['\\n                                    《小鐵如擬》貧攻版Draymond Green  勇士爭冠路途的最大隱憂\\n                                ', '小鐵', '2022/06/09']\n",
      "['\\n                                    《2022 Finals》硬實力的碰撞—球員簡評及Game3展望\\n                                ', 'MIND', '2022/06/08']\n",
      "['\\n                                    《2022 Finals》防守溝通及時修正、徹底封鎖綠衫雙槍 造就勇士一波流的兩大關鍵\\n                                ', 'EdotTdot_4', '2022/06/07']\n",
      "['\\n                                    《峰嶺隨筆》教練我只有現在啊：Robert Williams與綠衫軍的兩難\\n                                ', '馬特洪峰', '2022/06/07']\n",
      "['\\n                                    《2022 Finals》截然不同的結局—從前兩戰看雙方優缺展現\\n                                ', 'MIND', '2022/06/06']\n",
      "['\\n                                    從老鷹到塞爾蒂克，「活佛」Al Horford總冠軍戰的勝利飛吻、141場的等待\\n                                ', '中壢小跑車', '2022/06/04']\n",
      "['\\n                                    《2022 Finals》逆轉成功機率只有4%！塞爾蒂克是如何克服雙位數落後扳倒勇士的？\\n                                ', 'EdotTdot_4', '2022/06/04']\n",
      "[\"\\n                                    《2022 NBA 總冠軍戰分析》波士頓塞爾提克：It's all about 18！\\n                                \", 'JGT', '2022/06/01']\n",
      "['\\n                                    《2022NBA總冠軍賽分析》金州勇士 - 重返榮耀的最後考驗\\n                                ', '庫奇', '2022/06/02']\n"
     ]
    }
   ],
   "source": [
    "driver = webdriver.Chrome(\"C:/Users/jason/OneDrive/桌面/SCU/chromedriver.exe\")\n",
    "driver.get('https://www.sportsv.net/feature/2022-NBA-Playoffs')\n",
    "page_content = driver.page_source\n",
    "soup = BeautifulSoup(page_content,'html.parser')\n",
    "items = soup.select('.panel-content')\n",
    "row_list = []\n",
    "\n",
    "for item in items: \n",
    "    title = item.select('.title a')[0].text\n",
    "    author = item.select('.author_name')[0].text\n",
    "    date = item.select('.date')[0].text\n",
    "    article_list = {}\n",
    "    article_list['標題'] = title\n",
    "    article_list['作者'] = author\n",
    "    article_list['日期'] = date\n",
    "    row_list.append(article_list)\n",
    "\n",
    "headers = ['標題','作者','日期']\n",
    "\n",
    "with open('C:/Users/jason/OneDrive/桌面/happycoder/2022NBAPlayoffs.csv','w',newline='',encoding='utf-8')as f:\n",
    "    dict_writer = csv.DictWriter(f,headers)\n",
    "    dict_writer.writeheader()\n",
    "    dict_writer.writerows(row_list)\n",
    "\n",
    "with open('C:/Users/jason/OneDrive/桌面/happycoder/2022NBAPlayoffs.csv','r',newline='',encoding='utf-8')as i_f:\n",
    "    rows = csv.reader(i_f)\n",
    "    for row in rows:\n",
    "        print(row)\n",
    "\n",
    "time.sleep(1)\n",
    "driver.quit()"
   ]
  }
 ],
 "metadata": {
  "kernelspec": {
   "display_name": "Python 3",
   "language": "python",
   "name": "python3"
  },
  "language_info": {
   "codemirror_mode": {
    "name": "ipython",
    "version": 3
   },
   "file_extension": ".py",
   "mimetype": "text/x-python",
   "name": "python",
   "nbconvert_exporter": "python",
   "pygments_lexer": "ipython3",
   "version": "3.8.3"
  }
 },
 "nbformat": 4,
 "nbformat_minor": 4
}
