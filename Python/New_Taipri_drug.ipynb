{
 "cells": [
  {
   "cell_type": "markdown",
   "metadata": {},
   "source": [
    "# 以105年新北市政府警察局查獲兩性毒品嫌疑犯人數為資料集"
   ]
  },
  {
   "cell_type": "code",
   "execution_count": 1,
   "metadata": {},
   "outputs": [],
   "source": [
    "import pandas as pd\n",
    "import numpy as np\n",
    "import matplotlib.pyplot as plt"
   ]
  },
  {
   "cell_type": "code",
   "execution_count": 4,
   "metadata": {},
   "outputs": [
    {
     "name": "stdout",
     "output_type": "stream",
     "text": [
      "<class 'pandas.core.frame.DataFrame'>\n",
      "RangeIndex: 486 entries, 0 to 485\n",
      "Data columns (total 7 columns):\n",
      " #   Column     Non-Null Count  Dtype \n",
      "---  ------     --------------  ----- \n",
      " 0   year       486 non-null    object\n",
      " 1   item       486 non-null    object\n",
      " 2   method     486 non-null    object\n",
      " 3   education  486 non-null    object\n",
      " 4   total      486 non-null    int64 \n",
      " 5   man        486 non-null    int64 \n",
      " 6   Female     486 non-null    int64 \n",
      "dtypes: int64(3), object(4)\n",
      "memory usage: 26.7+ KB\n"
     ]
    }
   ],
   "source": [
    "data = pd.read_csv('C:/Users/jason/OneDrive/桌面/happycoder/新北市政府警察局查獲兩性毒品嫌疑犯人數.csv',encoding='UTF8')\n",
    "df = pd.DataFrame(data)\n",
    "df.info()"
   ]
  },
  {
   "cell_type": "markdown",
   "metadata": {},
   "source": [
    "由於年份皆為同一年及資料集中有包含對各欄位的總計，在這邊先drop掉"
   ]
  },
  {
   "cell_type": "code",
   "execution_count": 29,
   "metadata": {},
   "outputs": [
    {
     "name": "stdout",
     "output_type": "stream",
     "text": [
      "      item method education  total  man  Female\n",
      "109  第一級毒品  製造或栽種       不識字      0    0       0\n",
      "110  第一級毒品  製造或栽種        自修      0    0       0\n",
      "111  第一級毒品  製造或栽種        國小      0    0       0\n",
      "112  第一級毒品  製造或栽種        國中      0    0       0\n",
      "113  第一級毒品  製造或栽種     高中(職)      5    4       1\n",
      "..     ...    ...       ...    ...  ...     ...\n",
      "481  非四級其他     其他        國中      0    0       0\n",
      "482  非四級其他     其他     高中(職)      3    3       0\n",
      "483  非四級其他     其他        大專      4    4       0\n",
      "484  非四級其他     其他       研究所      0    0       0\n",
      "485  非四級其他     其他   其他(含不詳)      0    0       0\n",
      "\n",
      "[312 rows x 6 columns]\n"
     ]
    }
   ],
   "source": [
    "df=df.drop(['year'], axis=1)\n",
    "df.drop(df.loc[df['item']=='總計'].index, inplace=True)\n",
    "df.drop(df.loc[df['method']=='總計'].index, inplace=True)\n",
    "df.drop(df.loc[df['education']=='總計'].index, inplace=True)\n",
    "print(df)"
   ]
  },
  {
   "cell_type": "markdown",
   "metadata": {},
   "source": [
    "## 教育程度分析"
   ]
  },
  {
   "cell_type": "code",
   "execution_count": 47,
   "metadata": {},
   "outputs": [
    {
     "name": "stdout",
     "output_type": "stream",
     "text": [
      "           total  male  female\n",
      "education                     \n",
      "高中(職)       6814  5804    1010\n",
      "國中          3192  2799     393\n",
      "其他(含不詳)     1045   888     157\n",
      "大專           299   263      36\n",
      "國小           150   136      14\n",
      "研究所            8     6       2\n",
      "自修             1     1       0\n",
      "不識字            0     0       0\n"
     ]
    }
   ],
   "source": [
    "df.columns=['item','method','education','total','male','female']\n",
    "print(df.groupby(['education']).sum().sort_values('total', ascending=False))"
   ]
  },
  {
   "cell_type": "markdown",
   "metadata": {},
   "source": [
    "以教育程度來看，大部分犯嫌學歷介於國高中間，這也使日後在國高中更積極推廣反毒宣導。"
   ]
  },
  {
   "cell_type": "markdown",
   "metadata": {},
   "source": [
    "## 毒品類別"
   ]
  },
  {
   "cell_type": "code",
   "execution_count": 48,
   "metadata": {},
   "outputs": [
    {
     "name": "stdout",
     "output_type": "stream",
     "text": [
      "       total  male  female\n",
      "item                      \n",
      "第二級毒品   8864  7660    1204\n",
      "第一級毒品   2181  1815     366\n",
      "第三級毒品    453   412      41\n",
      "非四級其他      7     7       0\n",
      "第四級毒品      4     3       1\n"
     ]
    }
   ],
   "source": [
    "df.columns=['item','method','education','total','male','female']\n",
    "print(df.groupby(['item']).sum().sort_values('total', ascending=False))"
   ]
  },
  {
   "cell_type": "markdown",
   "metadata": {},
   "source": [
    "以毒品類別來看，絕大多數事件都是跟第二級毒品有關，警方應更著重在追溯其來源及各流通管道。"
   ]
  },
  {
   "cell_type": "markdown",
   "metadata": {},
   "source": [
    "## 犯罪方法"
   ]
  },
  {
   "cell_type": "code",
   "execution_count": 49,
   "metadata": {},
   "outputs": [
    {
     "name": "stdout",
     "output_type": "stream",
     "text": [
      "               total  male  female\n",
      "method                            \n",
      "施用              5323  4559     764\n",
      "持有              4557  3932     625\n",
      "販賣               685   574     111\n",
      "意圖販賣             540   462      78\n",
      "轉讓               368   338      30\n",
      "製造或栽種             14    11       3\n",
      "其他                10    10       0\n",
      "引誘他人施用             7     6       1\n",
      "強暴、脅迫等非法使用人施用      3     3       0\n",
      "製造                 1     1       0\n",
      "運輸                 1     1       0\n"
     ]
    }
   ],
   "source": [
    "df.columns=['item','method','education','total','male','female']\n",
    "print(df.groupby(['method']).sum().sort_values('total', ascending=False))"
   ]
  },
  {
   "cell_type": "markdown",
   "metadata": {},
   "source": [
    "以犯罪方法來看，大部分為施用及持有，且多為男性，或許可以從嫌犯背景找出更多隱藏的嫌犯。"
   ]
  }
 ],
 "metadata": {
  "kernelspec": {
   "display_name": "Python 3",
   "language": "python",
   "name": "python3"
  },
  "language_info": {
   "codemirror_mode": {
    "name": "ipython",
    "version": 3
   },
   "file_extension": ".py",
   "mimetype": "text/x-python",
   "name": "python",
   "nbconvert_exporter": "python",
   "pygments_lexer": "ipython3",
   "version": "3.8.3"
  }
 },
 "nbformat": 4,
 "nbformat_minor": 4
}
