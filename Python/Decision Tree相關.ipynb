{
 "cells": [
  {
   "cell_type": "code",
   "execution_count": 1,
   "metadata": {},
   "outputs": [],
   "source": [
    "import numpy as np\n",
    "import pandas as pd\n",
    "import matplotlib.pyplot as plt"
   ]
  },
  {
   "cell_type": "markdown",
   "metadata": {},
   "source": [
    "# 實作:adult資料集"
   ]
  },
  {
   "cell_type": "code",
   "execution_count": 2,
   "metadata": {},
   "outputs": [
    {
     "name": "stdout",
     "output_type": "stream",
     "text": [
      "<class 'pandas.core.frame.DataFrame'>\n",
      "RangeIndex: 32561 entries, 0 to 32560\n",
      "Data columns (total 5 columns):\n",
      " #   Column          Non-Null Count  Dtype \n",
      "---  ------          --------------  ----- \n",
      " 0   age             32561 non-null  int64 \n",
      " 1   sex             32561 non-null  object\n",
      " 2   hours-per-week  32561 non-null  int64 \n",
      " 3   education       32561 non-null  object\n",
      " 4   income          32561 non-null  object\n",
      "dtypes: int64(2), object(3)\n",
      "memory usage: 1.2+ MB\n"
     ]
    },
    {
     "data": {
      "text/html": [
       "<div>\n",
       "<style scoped>\n",
       "    .dataframe tbody tr th:only-of-type {\n",
       "        vertical-align: middle;\n",
       "    }\n",
       "\n",
       "    .dataframe tbody tr th {\n",
       "        vertical-align: top;\n",
       "    }\n",
       "\n",
       "    .dataframe thead th {\n",
       "        text-align: right;\n",
       "    }\n",
       "</style>\n",
       "<table border=\"1\" class=\"dataframe\">\n",
       "  <thead>\n",
       "    <tr style=\"text-align: right;\">\n",
       "      <th></th>\n",
       "      <th>age</th>\n",
       "      <th>sex</th>\n",
       "      <th>hours-per-week</th>\n",
       "      <th>education</th>\n",
       "      <th>income</th>\n",
       "    </tr>\n",
       "  </thead>\n",
       "  <tbody>\n",
       "    <tr>\n",
       "      <th>0</th>\n",
       "      <td>39</td>\n",
       "      <td>Male</td>\n",
       "      <td>40</td>\n",
       "      <td>Bachelors</td>\n",
       "      <td>&lt;=50K</td>\n",
       "    </tr>\n",
       "    <tr>\n",
       "      <th>1</th>\n",
       "      <td>50</td>\n",
       "      <td>Male</td>\n",
       "      <td>13</td>\n",
       "      <td>Bachelors</td>\n",
       "      <td>&lt;=50K</td>\n",
       "    </tr>\n",
       "    <tr>\n",
       "      <th>2</th>\n",
       "      <td>38</td>\n",
       "      <td>Male</td>\n",
       "      <td>40</td>\n",
       "      <td>HS-grad</td>\n",
       "      <td>&lt;=50K</td>\n",
       "    </tr>\n",
       "    <tr>\n",
       "      <th>3</th>\n",
       "      <td>53</td>\n",
       "      <td>Male</td>\n",
       "      <td>40</td>\n",
       "      <td>11th</td>\n",
       "      <td>&lt;=50K</td>\n",
       "    </tr>\n",
       "    <tr>\n",
       "      <th>4</th>\n",
       "      <td>28</td>\n",
       "      <td>Female</td>\n",
       "      <td>40</td>\n",
       "      <td>Bachelors</td>\n",
       "      <td>&lt;=50K</td>\n",
       "    </tr>\n",
       "  </tbody>\n",
       "</table>\n",
       "</div>"
      ],
      "text/plain": [
       "   age      sex  hours-per-week   education  income\n",
       "0   39     Male              40   Bachelors   <=50K\n",
       "1   50     Male              13   Bachelors   <=50K\n",
       "2   38     Male              40     HS-grad   <=50K\n",
       "3   53     Male              40        11th   <=50K\n",
       "4   28   Female              40   Bachelors   <=50K"
      ]
     },
     "execution_count": 2,
     "metadata": {},
     "output_type": "execute_result"
    }
   ],
   "source": [
    "names = ['age','workclass','fnlwgt','education','education-num','marital-status','occupatioon','relationship','race','sex','capital-gain','capital-loss','hours-per-week','native-country','income']\n",
    "data = pd.read_csv('C:/Users/jason/OneDrive/桌面/SCU/adult.csv',header = None, names=names)\n",
    "df = data[['age','sex','hours-per-week','education','income']]\n",
    "          \n",
    "df.info()\n",
    "          \n",
    "df.describe()\n",
    "          \n",
    "df.head()"
   ]
  },
  {
   "cell_type": "markdown",
   "metadata": {},
   "source": [
    "# 決策樹\n",
    "\n",
    "* 有較高同質性的節點，代表分割結果愈好\n",
    "\n",
    "* 節點的不純度愈低愈好\n",
    "\n",
    "## gini基尼係數\n",
    "\n",
    "* 適用於數據維度大，噪音很大的數據\n",
    "\n",
    "* 傾向包含多個值的屬性\n",
    "\n",
    "* 挑選擁有最大不純度降低值或gini係數最小的屬性來分割\n",
    "\n",
    "## 訊息獲利\n",
    "\n",
    "* 趨向包含多個值的屬性\n",
    "\n",
    "## 獲利比率\n",
    "\n",
    "* 兩邊分割的比率會非常不平均"
   ]
  },
  {
   "cell_type": "code",
   "execution_count": 5,
   "metadata": {},
   "outputs": [],
   "source": [
    "from sklearn.tree import DecisionTreeClassifier"
   ]
  },
  {
   "cell_type": "code",
   "execution_count": 3,
   "metadata": {
    "scrolled": true
   },
   "outputs": [
    {
     "name": "stdout",
     "output_type": "stream",
     "text": [
      "<class 'pandas.core.frame.DataFrame'>\n",
      "RangeIndex: 32561 entries, 0 to 32560\n",
      "Data columns (total 19 columns):\n",
      " #   Column                   Non-Null Count  Dtype\n",
      "---  ------                   --------------  -----\n",
      " 0   age                      32561 non-null  int64\n",
      " 1   hours-per-week           32561 non-null  int64\n",
      " 2   sex_ Male                32561 non-null  uint8\n",
      " 3   education_ 11th          32561 non-null  uint8\n",
      " 4   education_ 12th          32561 non-null  uint8\n",
      " 5   education_ 1st-4th       32561 non-null  uint8\n",
      " 6   education_ 5th-6th       32561 non-null  uint8\n",
      " 7   education_ 7th-8th       32561 non-null  uint8\n",
      " 8   education_ 9th           32561 non-null  uint8\n",
      " 9   education_ Assoc-acdm    32561 non-null  uint8\n",
      " 10  education_ Assoc-voc     32561 non-null  uint8\n",
      " 11  education_ Bachelors     32561 non-null  uint8\n",
      " 12  education_ Doctorate     32561 non-null  uint8\n",
      " 13  education_ HS-grad       32561 non-null  uint8\n",
      " 14  education_ Masters       32561 non-null  uint8\n",
      " 15  education_ Preschool     32561 non-null  uint8\n",
      " 16  education_ Prof-school   32561 non-null  uint8\n",
      " 17  education_ Some-college  32561 non-null  uint8\n",
      " 18  income_ >50K             32561 non-null  uint8\n",
      "dtypes: int64(2), uint8(17)\n",
      "memory usage: 1.0 MB\n",
      "score 0.7876907957372317\n"
     ]
    }
   ],
   "source": [
    "data_dummies = pd.get_dummies(df, drop_first = True) #get_dummies:類別轉標籤;drop_first:刪除第一個類別值\n",
    "data_dummies.info()\n",
    "X = data_dummies.iloc[:,:-1].values\n",
    "y = data_dummies.iloc[:,-1].values\n",
    "tree = DecisionTreeClassifier(criterion = 'gini',random_state=1,max_depth = 5) #criterion為指標\n",
    "tree.fit(X,y)\n",
    "print('score',tree.score(X,y)) #tree.score為正確率"
   ]
  },
  {
   "cell_type": "code",
   "execution_count": 6,
   "metadata": {},
   "outputs": [],
   "source": [
    "import graphviz\n",
    "from sklearn.tree import export_graphviz\n",
    "from pydotplus import graph_from_dot_data"
   ]
  },
  {
   "cell_type": "code",
   "execution_count": 4,
   "metadata": {},
   "outputs": [
    {
     "data": {
      "text/plain": [
       "True"
      ]
     },
     "execution_count": 4,
     "metadata": {},
     "output_type": "execute_result"
    }
   ],
   "source": [
    "dot_data = export_graphviz(tree, filled = True,\n",
    "                          rounded = True,\n",
    "                          class_names = data_dummies.iloc[:,-1].name,\n",
    "                          out_file=None) #filled(填充)、rounded(美化圖形)、classname必須為str且要排序\n",
    "graph = graph_from_dot_data(dot_data)\n",
    "graph.write_png('tree.png')"
   ]
  },
  {
   "cell_type": "markdown",
   "metadata": {},
   "source": [
    "## 優點: \n",
    "\n",
    "* 簡單、容易解讀（易視覺化）\n",
    "\n",
    "## 缺點:\n",
    "* 不穩定性:資料出現些許變動，可能就會得到不同的決策樹\n",
    "\n",
    "* 容易出現 overfitting \n",
    "\n",
    "* 不準確性：⼀開始時使⽤不太好的分割，可能會產⽣更好的預測"
   ]
  }
 ],
 "metadata": {
  "kernelspec": {
   "display_name": "Python 3",
   "language": "python",
   "name": "python3"
  },
  "language_info": {
   "codemirror_mode": {
    "name": "ipython",
    "version": 3
   },
   "file_extension": ".py",
   "mimetype": "text/x-python",
   "name": "python",
   "nbconvert_exporter": "python",
   "pygments_lexer": "ipython3",
   "version": "3.8.3"
  }
 },
 "nbformat": 4,
 "nbformat_minor": 4
}
