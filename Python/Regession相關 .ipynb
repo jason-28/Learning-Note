{
 "cells": [
  {
   "cell_type": "code",
   "execution_count": 2,
   "metadata": {},
   "outputs": [],
   "source": [
    "import pandas as pd\n",
    "import matplotlib.pyplot as plt\n",
    "import numpy as np\n",
    "import seaborn as sns"
   ]
  },
  {
   "cell_type": "code",
   "execution_count": 9,
   "metadata": {},
   "outputs": [
    {
     "data": {
      "text/plain": [
       "<matplotlib.collections.PathCollection at 0x24c02582220>"
      ]
     },
     "execution_count": 9,
     "metadata": {},
     "output_type": "execute_result"
    },
    {
     "data": {
      "image/png": "[encoded data removed]",
      "text/plain": [
       "<Figure size 432x288 with 1 Axes>"
      ]
     },
     "metadata": {
      "needs_background": "light"
     },
     "output_type": "display_data"
    }
   ],
   "source": [
    "data=pd.read_csv('regression1.csv')\n",
    "X= data.iloc[:,0].values\n",
    "y = data.iloc[:,-1].values\n",
    "plt.scatter(X, y)"
   ]
  },
  {
   "cell_type": "markdown",
   "metadata": {},
   "source": [
    "# 標準化"
   ]
  },
  {
   "cell_type": "code",
   "execution_count": 10,
   "metadata": {},
   "outputs": [],
   "source": [
    "from sklearn.preprocessing import StandardScaler"
   ]
  },
  {
   "cell_type": "code",
   "execution_count": 11,
   "metadata": {},
   "outputs": [
    {
     "data": {
      "text/plain": [
       "<matplotlib.collections.PathCollection at 0x24c0263a460>"
      ]
     },
     "execution_count": 11,
     "metadata": {},
     "output_type": "execute_result"
    },
    {
     "data": {
      "image/png": "[encoded data removed]",
      "text/plain": [
       "<Figure size 432x288 with 1 Axes>"
      ]
     },
     "metadata": {
      "needs_background": "light"
     },
     "output_type": "display_data"
    }
   ],
   "source": [
    "X1 = X.reshape(-1,1) #scikit-learn中，希望data儲存在⼆維陣列\n",
    "X_std = StandardScaler().fit_transform(X1)\n",
    "plt.scatter(X_std, y) "
   ]
  },
  {
   "cell_type": "code",
   "execution_count": 12,
   "metadata": {},
   "outputs": [
    {
     "data": {
      "text/html": [
       "<div>\n",
       "<style scoped>\n",
       "    .dataframe tbody tr th:only-of-type {\n",
       "        vertical-align: middle;\n",
       "    }\n",
       "\n",
       "    .dataframe tbody tr th {\n",
       "        vertical-align: top;\n",
       "    }\n",
       "\n",
       "    .dataframe thead th {\n",
       "        text-align: right;\n",
       "    }\n",
       "</style>\n",
       "<table border=\"1\" class=\"dataframe\">\n",
       "  <thead>\n",
       "    <tr style=\"text-align: right;\">\n",
       "      <th></th>\n",
       "      <th>X</th>\n",
       "      <th>y</th>\n",
       "    </tr>\n",
       "  </thead>\n",
       "  <tbody>\n",
       "    <tr>\n",
       "      <th>X</th>\n",
       "      <td>1.000000</td>\n",
       "      <td>0.950392</td>\n",
       "    </tr>\n",
       "    <tr>\n",
       "      <th>y</th>\n",
       "      <td>0.950392</td>\n",
       "      <td>1.000000</td>\n",
       "    </tr>\n",
       "  </tbody>\n",
       "</table>\n",
       "</div>"
      ],
      "text/plain": [
       "          X         y\n",
       "X  1.000000  0.950392\n",
       "y  0.950392  1.000000"
      ]
     },
     "execution_count": 12,
     "metadata": {},
     "output_type": "execute_result"
    }
   ],
   "source": [
    "data.corr() #相關係數"
   ]
  },
  {
   "cell_type": "markdown",
   "metadata": {},
   "source": [
    "# 線性規劃"
   ]
  },
  {
   "cell_type": "code",
   "execution_count": 23,
   "metadata": {},
   "outputs": [],
   "source": [
    "from sklearn.linear_model import LinearRegression\n",
    "from sklearn.metrics import mean_squared_error\n",
    "from sklearn.metrics import r2_score"
   ]
  },
  {
   "cell_type": "code",
   "execution_count": 16,
   "metadata": {},
   "outputs": [
    {
     "name": "stdout",
     "output_type": "stream",
     "text": [
      "Slope: 95.564\n",
      "Intercept: 428.600\n",
      "MSE: 978.262\n",
      "R^2: 0.903\n"
     ]
    }
   ],
   "source": [
    "lr=LinearRegression()\n",
    "lr.fit(X_std,y)\n",
    "y_pred = lr.predict(X_std)\n",
    "print('Slope: %.3f' % lr.coef_[0]) #模型的斜率\n",
    "print('Intercept: %.3f' % lr.intercept_) #模型的截距\n",
    "print('MSE: %.3f' % mean_squared_error(y,y_pred)) #均方誤:可以評價資料的變化程度，值越小，說明預測模型描述實驗資料有更好的精確度。\n",
    "print('R^2: %.3f' % r2_score(y,y_pred)) #判定係數:可代表解釋力"
   ]
  },
  {
   "cell_type": "code",
   "execution_count": 12,
   "metadata": {},
   "outputs": [
    {
     "data": {
      "text/plain": [
       "[<matplotlib.lines.Line2D at 0x27b1ca9fe50>]"
      ]
     },
     "execution_count": 12,
     "metadata": {},
     "output_type": "execute_result"
    },
    {
     "data": {
      "image/png": "[encoded data removed]",
      "text/plain": [
       "<Figure size 432x288 with 1 Axes>"
      ]
     },
     "metadata": {
      "needs_background": "light"
     },
     "output_type": "display_data"
    }
   ],
   "source": [
    "x = np.linspace(-3,3,100)\n",
    "plt.plot(X_std,y,'o') #點\n",
    "plt.plot(x,lr.intercept_+lr.coef_[0]*x) #線"
   ]
  },
  {
   "cell_type": "markdown",
   "metadata": {},
   "source": [
    "# 多項式回歸\n",
    "\n",
    "* degree值設定過大會導致overfitting(MSE:Test>Train；R Square:Test<Train)"
   ]
  },
  {
   "cell_type": "code",
   "execution_count": 5,
   "metadata": {},
   "outputs": [],
   "source": [
    "from sklearn.preprocessing import PolynomialFeatures"
   ]
  },
  {
   "cell_type": "code",
   "execution_count": 15,
   "metadata": {},
   "outputs": [
    {
     "name": "stdout",
     "output_type": "stream",
     "text": [
      "theta1: 0.000\n",
      "theta2: 97.133\n",
      "Intercept: 405.977\n"
     ]
    }
   ],
   "source": [
    "pr=LinearRegression()\n",
    "quadratic=PolynomialFeatures(degree=2) #新增一個二次項(添加特徵)\n",
    "X_quad=quadratic.fit_transform(X_std)\n",
    "pr.fit(X_quad,y)\n",
    "y_quad_pred = pr.predict(X_quad)\n",
    "print('theta1: %.3f' % pr.coef_[0]) \n",
    "print('theta2: %.3f' % pr.coef_[1]) \n",
    "print('Intercept: %.3f' % pr.intercept_) "
   ]
  },
  {
   "cell_type": "markdown",
   "metadata": {},
   "source": [
    "# 實作:糖尿病資料集"
   ]
  },
  {
   "cell_type": "code",
   "execution_count": 18,
   "metadata": {},
   "outputs": [
    {
     "data": {
      "text/plain": [
       "dict_keys(['data', 'target', 'frame', 'DESCR', 'feature_names', 'data_filename', 'target_filename'])"
      ]
     },
     "execution_count": 18,
     "metadata": {},
     "output_type": "execute_result"
    }
   ],
   "source": [
    "from sklearn.datasets import load_diabetes\n",
    "data=load_diabetes()\n",
    "data.keys()"
   ]
  },
  {
   "cell_type": "markdown",
   "metadata": {},
   "source": [
    "## 分割數據集"
   ]
  },
  {
   "cell_type": "code",
   "execution_count": 24,
   "metadata": {},
   "outputs": [],
   "source": [
    "from sklearn.model_selection import train_test_split"
   ]
  },
  {
   "cell_type": "code",
   "execution_count": 37,
   "metadata": {},
   "outputs": [],
   "source": [
    "x=load_diabetes().data \n",
    "y=load_diabetes().target\n",
    "x_train, x_test, y_train, y_test = train_test_split(x,y,random_state=8) #控制隨機狀態"
   ]
  },
  {
   "cell_type": "code",
   "execution_count": 28,
   "metadata": {},
   "outputs": [
    {
     "name": "stdout",
     "output_type": "stream",
     "text": [
      "[   11.5106203   -282.51347161   534.20455671   401.73142674\n",
      " -1043.89718398   634.92464089   186.43262636   204.93373199\n",
      "   762.47149733    91.9460394 ]\n",
      "MSE train:2812.369, test:3108.041\n",
      "R^2 train:0.530, test:0.459\n"
     ]
    }
   ],
   "source": [
    "lr = LinearRegression()\n",
    "lr.fit(x_train,y_train)\n",
    "print(lr.coef_) #迴歸係數:越大代表對y影響力越大，負值代表負相關\n",
    "y_train_pred = lr.predict(x_train)\n",
    "y_test_pred = lr.predict(x_test)\n",
    "print('MSE train:%.3f, test:%.3f'%(mean_squared_error(y_train,y_train_pred),\n",
    "                                   mean_squared_error(y_test,y_test_pred)))\n",
    "print('R^2 train:%.3f, test:%.3f'%(r2_score(y_train,y_train_pred),\n",
    "                                   r2_score(y_test,y_test_pred)))"
   ]
  },
  {
   "cell_type": "markdown",
   "metadata": {},
   "source": [
    "## 共線性\n",
    "\n",
    "* 迴歸模型中存在著重複的自變數，提高某一自變數的解釋力與預測力。\n",
    "\n",
    "### 處理方法\n",
    "\n",
    "* 資料預處理(轉換、只留下不相關的變數)、脊回歸、主成分分析"
   ]
  },
  {
   "cell_type": "markdown",
   "metadata": {},
   "source": [
    "# 脊回歸(L2正則化)\n",
    "\n",
    "* 透過調整參數alpha控制損失函數\n",
    "\n",
    "* 縮小迴歸係數會使得模型相對穩定"
   ]
  },
  {
   "cell_type": "code",
   "execution_count": 29,
   "metadata": {},
   "outputs": [],
   "source": [
    "from sklearn.linear_model import Ridge"
   ]
  },
  {
   "cell_type": "code",
   "execution_count": 31,
   "metadata": {},
   "outputs": [
    {
     "name": "stdout",
     "output_type": "stream",
     "text": [
      "[  36.8262072   -75.80823733  282.42652716  207.39314972   -1.46580263\n",
      "  -27.81750835 -134.3740951    98.97724793  222.67543268  117.97255343]\n",
      "MSE train:3397.720, test:3108.041\n",
      "R^2 train:0.433, test:0.459\n"
     ]
    }
   ],
   "source": [
    "ridge = Ridge(alpha=1).fit(x_train,y_train)\n",
    "print(ridge.coef_)\n",
    "y_train_pred = ridge.predict(x_train)\n",
    "print('MSE train:%.3f, test:%.3f'%(mean_squared_error(y_train,y_train_pred),\n",
    "                                   mean_squared_error(y_test,y_test_pred)))\n",
    "print('R^2 train:%.3f, test:%.3f'%(r2_score(y_train,y_train_pred),\n",
    "                                   r2_score(y_test,y_test_pred)))"
   ]
  },
  {
   "cell_type": "markdown",
   "metadata": {},
   "source": [
    "# LASSO回歸(L1正則化)\n",
    "\n",
    "* 透過調整參數alpha控制損失函數\n",
    "\n",
    "* 縮小迴歸係數有助於降低模型複雜度和多重共線性"
   ]
  },
  {
   "cell_type": "code",
   "execution_count": 32,
   "metadata": {},
   "outputs": [],
   "source": [
    "from sklearn.linear_model import Lasso"
   ]
  },
  {
   "cell_type": "code",
   "execution_count": 34,
   "metadata": {},
   "outputs": [
    {
     "name": "stdout",
     "output_type": "stream",
     "text": [
      "[  0.          -0.         384.73421807  72.69325545   0.\n",
      "   0.          -0.           0.         247.88881314   0.        ]\n",
      "MSE train:3818.201, test:3108.041\n",
      "R^2 train:0.362, test:0.459\n"
     ]
    }
   ],
   "source": [
    "lasso = Lasso(alpha=1).fit(x_train,y_train)\n",
    "print(lasso.coef_)\n",
    "y_train_pred = lasso.predict(x_train)\n",
    "print('MSE train:%.3f, test:%.3f'%(mean_squared_error(y_train,y_train_pred),\n",
    "                                   mean_squared_error(y_test,y_test_pred)))\n",
    "print('R^2 train:%.3f, test:%.3f'%(r2_score(y_train,y_train_pred),\n",
    "                                   r2_score(y_test,y_test_pred)))"
   ]
  },
  {
   "cell_type": "markdown",
   "metadata": {},
   "source": [
    "## Ridge v.s. LASSO\n",
    "\n",
    "* Ridge通常是⾸選(因LASSO在移除變數的同時，會犧牲模型的正確性)\n",
    "\n",
    "* 如果特徵太多，且只有⼀⼩部分是真正重要的，則應該選擇LASSO(解釋力較高)\n",
    "\n",
    "* 如果須解釋模型，LASSO更好理解(因使⽤較少特徵)"
   ]
  },
  {
   "cell_type": "markdown",
   "metadata": {},
   "source": [
    "# Elastic Net(結合上述兩者)\n",
    "\n",
    "* 優點: 簡單、易於運算;迴歸係數能得到有⽤的訊息\n",
    "\n",
    "* 缺點: 易受異常值影響、相關預測因⼦的權重會被扭曲、曲線趨勢、預測因⼦和結果並不暗⽰因果關係"
   ]
  },
  {
   "cell_type": "code",
   "execution_count": 35,
   "metadata": {},
   "outputs": [],
   "source": [
    "from sklearn.linear_model import ElasticNet"
   ]
  },
  {
   "cell_type": "code",
   "execution_count": 39,
   "metadata": {},
   "outputs": [
    {
     "name": "stdout",
     "output_type": "stream",
     "text": [
      "[ 0.21886047  0.          3.32172605  2.40903271  0.39329589  0.0813468\n",
      " -1.66664402  1.86756919  3.0113635   1.88112395]\n",
      "MSE train:5937.607, test:3108.041\n",
      "R^2 train:0.009, test:0.459\n"
     ]
    }
   ],
   "source": [
    "elanet = ElasticNet(alpha=1,l1_ratio=0.5).fit(x_train,y_train) #l1_ratio = 1 即為 LASSO\n",
    "print(elanet.coef_)\n",
    "y_train_pred = elanet.predict(x_train)\n",
    "print('MSE train:%.3f, test:%.3f'%(mean_squared_error(y_train,y_train_pred),\n",
    "                                   mean_squared_error(y_test,y_test_pred)))\n",
    "print('R^2 train:%.3f, test:%.3f'%(r2_score(y_train,y_train_pred),\n",
    "                                   r2_score(y_test,y_test_pred)))"
   ]
  }
 ],
 "metadata": {
  "kernelspec": {
   "display_name": "Python 3",
   "language": "python",
   "name": "python3"
  },
  "language_info": {
   "codemirror_mode": {
    "name": "ipython",
    "version": 3
   },
   "file_extension": ".py",
   "mimetype": "text/x-python",
   "name": "python",
   "nbconvert_exporter": "python",
   "pygments_lexer": "ipython3",
   "version": "3.8.3"
  }
 },
 "nbformat": 4,
 "nbformat_minor": 4
}
